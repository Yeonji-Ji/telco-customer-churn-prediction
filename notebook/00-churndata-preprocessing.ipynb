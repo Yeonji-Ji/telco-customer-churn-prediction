{
 "cells": [
  {
   "cell_type": "code",
   "execution_count": 1,
   "id": "4756fe9b",
   "metadata": {
    "_cell_guid": "b1076dfc-b9ad-4769-8c92-a6c4dae69d19",
    "_uuid": "8f2839f25d086af736a60e9eeb907d3b93b6e0e5",
    "execution": {
     "iopub.execute_input": "2025-10-03T21:08:33.515876Z",
     "iopub.status.busy": "2025-10-03T21:08:33.515520Z",
     "iopub.status.idle": "2025-10-03T21:08:35.313104Z",
     "shell.execute_reply": "2025-10-03T21:08:35.312078Z"
    },
    "papermill": {
     "duration": 1.803323,
     "end_time": "2025-10-03T21:08:35.314562",
     "exception": false,
     "start_time": "2025-10-03T21:08:33.511239",
     "status": "completed"
    },
    "tags": []
   },
   "outputs": [
    {
     "name": "stdout",
     "output_type": "stream",
     "text": [
      "/kaggle/input/telco-customer-churn/WA_Fn-UseC_-Telco-Customer-Churn.csv\n"
     ]
    }
   ],
   "source": [
    "# This Python 3 environment comes with many helpful analytics libraries installed\n",
    "# It is defined by the kaggle/python Docker image: https://github.com/kaggle/docker-python\n",
    "# For example, here's several helpful packages to load\n",
    "\n",
    "import numpy as np # linear algebra\n",
    "import pandas as pd # data processing, CSV file I/O (e.g. pd.read_csv)\n",
    "\n",
    "# Input data files are available in the read-only \"../input/\" directory\n",
    "# For example, running this (by clicking run or pressing Shift+Enter) will list all files under the input directory\n",
    "\n",
    "import os\n",
    "for dirname, _, filenames in os.walk('/kaggle/input'):\n",
    "    for filename in filenames:\n",
    "        print(os.path.join(dirname, filename))\n",
    "\n",
    "# You can write up to 20GB to the current directory (/kaggle/working/) that gets preserved as output when you create a version using \"Save & Run All\" \n",
    "# You can also write temporary files to /kaggle/temp/, but they won't be saved outside of the current session"
   ]
  },
  {
   "cell_type": "code",
   "execution_count": 2,
   "id": "d0963fa3",
   "metadata": {
    "execution": {
     "iopub.execute_input": "2025-10-03T21:08:35.320902Z",
     "iopub.status.busy": "2025-10-03T21:08:35.320480Z",
     "iopub.status.idle": "2025-10-03T21:08:37.120951Z",
     "shell.execute_reply": "2025-10-03T21:08:37.119990Z"
    },
    "papermill": {
     "duration": 1.805243,
     "end_time": "2025-10-03T21:08:37.122686",
     "exception": false,
     "start_time": "2025-10-03T21:08:35.317443",
     "status": "completed"
    },
    "tags": []
   },
   "outputs": [],
   "source": [
    "import matplotlib.pyplot as plt\n",
    "import seaborn as sns"
   ]
  },
  {
   "cell_type": "code",
   "execution_count": 3,
   "id": "ca7392df",
   "metadata": {
    "execution": {
     "iopub.execute_input": "2025-10-03T21:08:37.128734Z",
     "iopub.status.busy": "2025-10-03T21:08:37.128337Z",
     "iopub.status.idle": "2025-10-03T21:08:37.199096Z",
     "shell.execute_reply": "2025-10-03T21:08:37.197870Z"
    },
    "papermill": {
     "duration": 0.075374,
     "end_time": "2025-10-03T21:08:37.200633",
     "exception": false,
     "start_time": "2025-10-03T21:08:37.125259",
     "status": "completed"
    },
    "tags": []
   },
   "outputs": [
    {
     "name": "stdout",
     "output_type": "stream",
     "text": [
      "(7043, 21)\n",
      "Index(['customerID', 'gender', 'SeniorCitizen', 'Partner', 'Dependents',\n",
      "       'tenure', 'PhoneService', 'MultipleLines', 'InternetService',\n",
      "       'OnlineSecurity', 'OnlineBackup', 'DeviceProtection', 'TechSupport',\n",
      "       'StreamingTV', 'StreamingMovies', 'Contract', 'PaperlessBilling',\n",
      "       'PaymentMethod', 'MonthlyCharges', 'TotalCharges', 'Churn'],\n",
      "      dtype='object')\n",
      "Churn\n",
      "No     0.73463\n",
      "Yes    0.26537\n",
      "Name: proportion, dtype: float64\n"
     ]
    }
   ],
   "source": [
    "df = pd.read_csv(\"/kaggle/input/telco-customer-churn/WA_Fn-UseC_-Telco-Customer-Churn.csv\")\n",
    "\n",
    "print(df.shape)\n",
    "print(df.columns)\n",
    "print(df[\"Churn\"].value_counts(normalize=True))"
   ]
  },
  {
   "cell_type": "code",
   "execution_count": 4,
   "id": "886aef3f",
   "metadata": {
    "execution": {
     "iopub.execute_input": "2025-10-03T21:08:37.206626Z",
     "iopub.status.busy": "2025-10-03T21:08:37.206336Z",
     "iopub.status.idle": "2025-10-03T21:08:37.222772Z",
     "shell.execute_reply": "2025-10-03T21:08:37.222017Z"
    },
    "papermill": {
     "duration": 0.021061,
     "end_time": "2025-10-03T21:08:37.224225",
     "exception": false,
     "start_time": "2025-10-03T21:08:37.203164",
     "status": "completed"
    },
    "tags": []
   },
   "outputs": [
    {
     "data": {
      "text/plain": [
       "customerID          0\n",
       "DeviceProtection    0\n",
       "TotalCharges        0\n",
       "MonthlyCharges      0\n",
       "PaymentMethod       0\n",
       "dtype: int64"
      ]
     },
     "execution_count": 4,
     "metadata": {},
     "output_type": "execute_result"
    }
   ],
   "source": [
    "df.isna().sum().sort_values(ascending=False).head()"
   ]
  },
  {
   "cell_type": "code",
   "execution_count": 5,
   "id": "e0987b73",
   "metadata": {
    "execution": {
     "iopub.execute_input": "2025-10-03T21:08:37.230422Z",
     "iopub.status.busy": "2025-10-03T21:08:37.230146Z",
     "iopub.status.idle": "2025-10-03T21:08:37.679762Z",
     "shell.execute_reply": "2025-10-03T21:08:37.678682Z"
    },
    "papermill": {
     "duration": 0.454469,
     "end_time": "2025-10-03T21:08:37.681451",
     "exception": false,
     "start_time": "2025-10-03T21:08:37.226982",
     "status": "completed"
    },
    "tags": []
   },
   "outputs": [
    {
     "data": {
      "image/png": "[encoded data removed]",
      "text/plain": [
       "<Figure size 500x300 with 1 Axes>"
      ]
     },
     "metadata": {},
     "output_type": "display_data"
    }
   ],
   "source": [
    "import os\n",
    "FIG_DIR = 'figure'\n",
    "os.makedirs(FIG_DIR, exist_ok=True)\n",
    "\n",
    "plt.figure(figsize=(5,3))\n",
    "\n",
    "sns.countplot(x=\"Churn\", data=df)\n",
    "\n",
    "plt.title(\"Churn Distribution\")\n",
    "plt.savefig(FIG_DIR + '/churn_distribution.png', dpi=200, bbox_inches='tight')\n",
    "plt.show()"
   ]
  },
  {
   "cell_type": "code",
   "execution_count": 6,
   "id": "62e051ab",
   "metadata": {
    "execution": {
     "iopub.execute_input": "2025-10-03T21:08:37.690672Z",
     "iopub.status.busy": "2025-10-03T21:08:37.690361Z",
     "iopub.status.idle": "2025-10-03T21:08:37.701459Z",
     "shell.execute_reply": "2025-10-03T21:08:37.700505Z"
    },
    "papermill": {
     "duration": 0.016565,
     "end_time": "2025-10-03T21:08:37.702864",
     "exception": false,
     "start_time": "2025-10-03T21:08:37.686299",
     "status": "completed"
    },
    "tags": []
   },
   "outputs": [
    {
     "data": {
      "text/plain": [
       "Churn\n",
       "No     64.425\n",
       "Yes    79.650\n",
       "Name: MonthlyCharges, dtype: float64"
      ]
     },
     "execution_count": 6,
     "metadata": {},
     "output_type": "execute_result"
    }
   ],
   "source": [
    "df.head()\n",
    "medians = df.groupby(\"Churn\")[\"MonthlyCharges\"].median()\n",
    "medians"
   ]
  },
  {
   "cell_type": "code",
   "execution_count": 7,
   "id": "f4dae853",
   "metadata": {
    "execution": {
     "iopub.execute_input": "2025-10-03T21:08:37.709672Z",
     "iopub.status.busy": "2025-10-03T21:08:37.709378Z",
     "iopub.status.idle": "2025-10-03T21:08:38.572070Z",
     "shell.execute_reply": "2025-10-03T21:08:38.571102Z"
    },
    "papermill": {
     "duration": 0.867682,
     "end_time": "2025-10-03T21:08:38.573442",
     "exception": false,
     "start_time": "2025-10-03T21:08:37.705760",
     "status": "completed"
    },
    "tags": []
   },
   "outputs": [
    {
     "name": "stderr",
     "output_type": "stream",
     "text": [
      "/usr/local/lib/python3.11/dist-packages/seaborn/_oldcore.py:1119: FutureWarning: use_inf_as_na option is deprecated and will be removed in a future version. Convert inf values to NaN before operating instead.\n",
      "  with pd.option_context('mode.use_inf_as_na', True):\n",
      "/usr/local/lib/python3.11/dist-packages/seaborn/_oldcore.py:1075: FutureWarning: When grouping with a length-1 list-like, you will need to pass a length-1 tuple to get_group in a future version of pandas. Pass `(name,)` instead of `name` to silence this warning.\n",
      "  data_subset = grouped_data.get_group(pd_key)\n",
      "/usr/local/lib/python3.11/dist-packages/seaborn/_oldcore.py:1075: FutureWarning: When grouping with a length-1 list-like, you will need to pass a length-1 tuple to get_group in a future version of pandas. Pass `(name,)` instead of `name` to silence this warning.\n",
      "  data_subset = grouped_data.get_group(pd_key)\n",
      "/usr/local/lib/python3.11/dist-packages/seaborn/_oldcore.py:1075: FutureWarning: When grouping with a length-1 list-like, you will need to pass a length-1 tuple to get_group in a future version of pandas. Pass `(name,)` instead of `name` to silence this warning.\n",
      "  data_subset = grouped_data.get_group(pd_key)\n"
     ]
    },
    {
     "data": {
      "image/png": "[encoded data removed]",
      "text/plain": [
       "<Figure size 1200x500 with 2 Axes>"
      ]
     },
     "metadata": {},
     "output_type": "display_data"
    }
   ],
   "source": [
    "df[\"TotalCharges\"] = pd.to_numeric(df['TotalCharges'], errors='coerce')\n",
    "\n",
    "fig, axs = plt.subplots(1, 2, figsize=(12, 5))\n",
    "# sns.histplot(data=df, x=\"tenure\", hue=\"Churn\", bins=30, kde=False, ax=axs[0])\n",
    "sns.histplot(\n",
    "    data=df, x=\"tenure\", hue=\"Churn\",\n",
    "    bins=30, kde=False, ax=axs[0],\n",
    "    element=\"step\", legend=True\n",
    ")\n",
    "axs[0].set_title(\"Churn vs. Tenure\", fontsize=16)\n",
    "axs[0].set_xlabel(\"Tenure\", fontsize=14)\n",
    "axs[0].set_ylabel(\"Churn\", fontsize=14)\n",
    "sns.move_legend(\n",
    "    axs[0], \"upper center\",\n",
    "    bbox_to_anchor=(0.5, 1.0),\n",
    "    ncol=1,frameon=True\n",
    ")\n",
    "\n",
    "sns.boxplot(data=df, x='MonthlyCharges', y='Churn', ax=axs[1])\n",
    "axs[1].set_title(\"Monthly Charges vs. Churn\", fontsize=16)\n",
    "axs[1].set_xlabel(\"Monthly Charges\", fontsize=14)\n",
    "axs[1].set_ylabel(\"Churn\", fontsize=14)\n",
    "for i, (churn, median) in enumerate(medians.items()):\n",
    "    axs[1].text(median, i, f'{median:.1f}',\n",
    "                horizontalalignment='center',\n",
    "                color='black', fontsize=15, weight='bold')\n",
    "\n",
    "# sns.kdeplot(data=df, x='TotalCharges', hue='Churn', common_norm=False, fill=True, ax=axs[2])\n",
    "# axs[2].set_title(\"Total Charges Distribution by Churn\")\n",
    "\n",
    "plt.tight_layout()\n",
    "plt.savefig(FIG_DIR + '/churn_vs.png', dpi=200, bbox_inches='tight')\n",
    "plt.show()"
   ]
  },
  {
   "cell_type": "code",
   "execution_count": 8,
   "id": "96e5374b",
   "metadata": {
    "execution": {
     "iopub.execute_input": "2025-10-03T21:08:38.582332Z",
     "iopub.status.busy": "2025-10-03T21:08:38.582022Z",
     "iopub.status.idle": "2025-10-03T21:08:38.699387Z",
     "shell.execute_reply": "2025-10-03T21:08:38.698475Z"
    },
    "papermill": {
     "duration": 0.123817,
     "end_time": "2025-10-03T21:08:38.701182",
     "exception": false,
     "start_time": "2025-10-03T21:08:38.577365",
     "status": "completed"
    },
    "tags": []
   },
   "outputs": [],
   "source": [
    "OUT_DIR = 'processed'\n",
    "os.makedirs(OUT_DIR, exist_ok=True)\n",
    "\n",
    "# df = df.drop('customerID', axis=1)\n",
    "df['Churn'] = df['Churn'].map({\"Yes\": 1, \"No\": 0})\n",
    "df['PhoneService'] = df['PhoneService'].map({\"Yes\": 1, \"No\": 0})\n",
    "df['PaperlessBilling'] = df['PaperlessBilling'].map({\"Yes\": 1, \"No\": 0})\n",
    "\n",
    "df['TotalCharges'] = df['TotalCharges'].fillna(df['TotalCharges'].median())\n",
    "df_proc = df[['tenure', 'PhoneService', 'MultipleLines', 'PaperlessBilling', 'Contract', \n",
    "              'PaymentMethod', 'MonthlyCharges', 'TotalCharges', 'Churn']]\n",
    "df_orig = df.copy()\n",
    "df_proc.to_csv(OUT_DIR + '/processed.csv')\n",
    "df_orig.to_csv(OUT_DIR + '/orig.csv')\n",
    "# df = pd.get_dummies(df, drop_first=True)"
   ]
  },
  {
   "cell_type": "code",
   "execution_count": null,
   "id": "1abe6c9e",
   "metadata": {
    "papermill": {
     "duration": 0.003237,
     "end_time": "2025-10-03T21:08:38.708255",
     "exception": false,
     "start_time": "2025-10-03T21:08:38.705018",
     "status": "completed"
    },
    "tags": []
   },
   "outputs": [],
   "source": []
  }
 ],
 "metadata": {
  "kaggle": {
   "accelerator": "none",
   "dataSources": [
    {
     "datasetId": 13996,
     "sourceId": 18858,
     "sourceType": "datasetVersion"
    }
   ],
   "dockerImageVersionId": 31089,
   "isGpuEnabled": false,
   "isInternetEnabled": true,
   "language": "python",
   "sourceType": "notebook"
  },
  "kernelspec": {
   "display_name": "Python 3",
   "language": "python",
   "name": "python3"
  },
  "language_info": {
   "codemirror_mode": {
    "name": "ipython",
    "version": 3
   },
   "file_extension": ".py",
   "mimetype": "text/x-python",
   "name": "python",
   "nbconvert_exporter": "python",
   "pygments_lexer": "ipython3",
   "version": "3.11.13"
  },
  "papermill": {
   "default_parameters": {},
   "duration": 10.971897,
   "end_time": "2025-10-03T21:08:39.431919",
   "environment_variables": {},
   "exception": null,
   "input_path": "__notebook__.ipynb",
   "output_path": "__notebook__.ipynb",
   "parameters": {},
   "start_time": "2025-10-03T21:08:28.460022",
   "version": "2.6.0"
  }
 },
 "nbformat": 4,
 "nbformat_minor": 5
}
