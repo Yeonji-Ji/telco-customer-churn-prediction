{
 "cells": [
  {
   "cell_type": "code",
   "execution_count": 1,
   "metadata": {
    "_cell_guid": "b1076dfc-b9ad-4769-8c92-a6c4dae69d19",
    "_uuid": "8f2839f25d086af736a60e9eeb907d3b93b6e0e5",
    "execution": {
     "iopub.execute_input": "2025-10-03T22:21:42.606542Z",
     "iopub.status.busy": "2025-10-03T22:21:42.606336Z",
     "iopub.status.idle": "2025-10-03T22:21:44.599315Z",
     "shell.execute_reply": "2025-10-03T22:21:44.598335Z",
     "shell.execute_reply.started": "2025-10-03T22:21:42.606523Z"
    },
    "trusted": true
   },
   "outputs": [
    {
     "name": "stdout",
     "output_type": "stream",
     "text": [
      "/kaggle/input/telco-customer-churn/WA_Fn-UseC_-Telco-Customer-Churn.csv\n",
      "/kaggle/input/00-churndata-preprocessing/__results__.html\n",
      "/kaggle/input/00-churndata-preprocessing/__notebook__.ipynb\n",
      "/kaggle/input/00-churndata-preprocessing/__output__.json\n",
      "/kaggle/input/00-churndata-preprocessing/custom.css\n",
      "/kaggle/input/00-churndata-preprocessing/figure/churn_vs.png\n",
      "/kaggle/input/00-churndata-preprocessing/figure/churn_distribution.png\n",
      "/kaggle/input/00-churndata-preprocessing/__results___files/__results___6_1.png\n",
      "/kaggle/input/00-churndata-preprocessing/__results___files/__results___4_0.png\n",
      "/kaggle/input/00-churndata-preprocessing/processed/orig.csv\n",
      "/kaggle/input/00-churndata-preprocessing/processed/processed.csv\n"
     ]
    }
   ],
   "source": [
    "# This Python 3 environment comes with many helpful analytics libraries installed\n",
    "# It is defined by the kaggle/python Docker image: https://github.com/kaggle/docker-python\n",
    "# For example, here's several helpful packages to load\n",
    "\n",
    "import numpy as np # linear algebra\n",
    "import pandas as pd # data processing, CSV file I/O (e.g. pd.read_csv)\n",
    "\n",
    "# Input data files are available in the read-only \"../input/\" directory\n",
    "# For example, running this (by clicking run or pressing Shift+Enter) will list all files under the input directory\n",
    "\n",
    "import os\n",
    "for dirname, _, filenames in os.walk('/kaggle/input'):\n",
    "    for filename in filenames:\n",
    "        print(os.path.join(dirname, filename))\n",
    "\n",
    "# You can write up to 20GB to the current directory (/kaggle/working/) that gets preserved as output when you create a version using \"Save & Run All\" \n",
    "# You can also write temporary files to /kaggle/temp/, but they won't be saved outside of the current session"
   ]
  },
  {
   "cell_type": "code",
   "execution_count": 2,
   "metadata": {
    "execution": {
     "iopub.execute_input": "2025-10-03T22:21:47.524955Z",
     "iopub.status.busy": "2025-10-03T22:21:47.524337Z",
     "iopub.status.idle": "2025-10-03T22:21:48.386439Z",
     "shell.execute_reply": "2025-10-03T22:21:48.385882Z",
     "shell.execute_reply.started": "2025-10-03T22:21:47.524928Z"
    },
    "trusted": true
   },
   "outputs": [],
   "source": [
    "import matplotlib.pyplot as plt\n",
    "import seaborn as sns"
   ]
  },
  {
   "cell_type": "code",
   "execution_count": 3,
   "metadata": {
    "execution": {
     "iopub.execute_input": "2025-10-03T22:21:49.170954Z",
     "iopub.status.busy": "2025-10-03T22:21:49.170523Z",
     "iopub.status.idle": "2025-10-03T22:21:49.175001Z",
     "shell.execute_reply": "2025-10-03T22:21:49.174301Z",
     "shell.execute_reply.started": "2025-10-03T22:21:49.170930Z"
    },
    "trusted": true
   },
   "outputs": [],
   "source": [
    "import os\n",
    "FIG_PATH = 'figures'\n",
    "os.makedirs(FIG_PATH, exist_ok=True)"
   ]
  },
  {
   "cell_type": "code",
   "execution_count": 4,
   "metadata": {
    "execution": {
     "iopub.execute_input": "2025-10-03T22:21:50.102006Z",
     "iopub.status.busy": "2025-10-03T22:21:50.101728Z",
     "iopub.status.idle": "2025-10-03T22:21:50.153468Z",
     "shell.execute_reply": "2025-10-03T22:21:50.152677Z",
     "shell.execute_reply.started": "2025-10-03T22:21:50.101985Z"
    },
    "trusted": true
   },
   "outputs": [
    {
     "data": {
      "text/html": [
       "<div>\n",
       "<style scoped>\n",
       "    .dataframe tbody tr th:only-of-type {\n",
       "        vertical-align: middle;\n",
       "    }\n",
       "\n",
       "    .dataframe tbody tr th {\n",
       "        vertical-align: top;\n",
       "    }\n",
       "\n",
       "    .dataframe thead th {\n",
       "        text-align: right;\n",
       "    }\n",
       "</style>\n",
       "<table border=\"1\" class=\"dataframe\">\n",
       "  <thead>\n",
       "    <tr style=\"text-align: right;\">\n",
       "      <th></th>\n",
       "      <th>Unnamed: 0</th>\n",
       "      <th>tenure</th>\n",
       "      <th>PhoneService</th>\n",
       "      <th>MultipleLines</th>\n",
       "      <th>PaperlessBilling</th>\n",
       "      <th>Contract</th>\n",
       "      <th>PaymentMethod</th>\n",
       "      <th>MonthlyCharges</th>\n",
       "      <th>TotalCharges</th>\n",
       "      <th>Churn</th>\n",
       "    </tr>\n",
       "  </thead>\n",
       "  <tbody>\n",
       "    <tr>\n",
       "      <th>0</th>\n",
       "      <td>0</td>\n",
       "      <td>1</td>\n",
       "      <td>0</td>\n",
       "      <td>No phone service</td>\n",
       "      <td>1</td>\n",
       "      <td>Month-to-month</td>\n",
       "      <td>Electronic check</td>\n",
       "      <td>29.85</td>\n",
       "      <td>29.85</td>\n",
       "      <td>0</td>\n",
       "    </tr>\n",
       "    <tr>\n",
       "      <th>1</th>\n",
       "      <td>1</td>\n",
       "      <td>34</td>\n",
       "      <td>1</td>\n",
       "      <td>No</td>\n",
       "      <td>0</td>\n",
       "      <td>One year</td>\n",
       "      <td>Mailed check</td>\n",
       "      <td>56.95</td>\n",
       "      <td>1889.50</td>\n",
       "      <td>0</td>\n",
       "    </tr>\n",
       "    <tr>\n",
       "      <th>2</th>\n",
       "      <td>2</td>\n",
       "      <td>2</td>\n",
       "      <td>1</td>\n",
       "      <td>No</td>\n",
       "      <td>1</td>\n",
       "      <td>Month-to-month</td>\n",
       "      <td>Mailed check</td>\n",
       "      <td>53.85</td>\n",
       "      <td>108.15</td>\n",
       "      <td>1</td>\n",
       "    </tr>\n",
       "    <tr>\n",
       "      <th>3</th>\n",
       "      <td>3</td>\n",
       "      <td>45</td>\n",
       "      <td>0</td>\n",
       "      <td>No phone service</td>\n",
       "      <td>0</td>\n",
       "      <td>One year</td>\n",
       "      <td>Bank transfer (automatic)</td>\n",
       "      <td>42.30</td>\n",
       "      <td>1840.75</td>\n",
       "      <td>0</td>\n",
       "    </tr>\n",
       "    <tr>\n",
       "      <th>4</th>\n",
       "      <td>4</td>\n",
       "      <td>2</td>\n",
       "      <td>1</td>\n",
       "      <td>No</td>\n",
       "      <td>1</td>\n",
       "      <td>Month-to-month</td>\n",
       "      <td>Electronic check</td>\n",
       "      <td>70.70</td>\n",
       "      <td>151.65</td>\n",
       "      <td>1</td>\n",
       "    </tr>\n",
       "  </tbody>\n",
       "</table>\n",
       "</div>"
      ],
      "text/plain": [
       "   Unnamed: 0  tenure  PhoneService     MultipleLines  PaperlessBilling  \\\n",
       "0           0       1             0  No phone service                 1   \n",
       "1           1      34             1                No                 0   \n",
       "2           2       2             1                No                 1   \n",
       "3           3      45             0  No phone service                 0   \n",
       "4           4       2             1                No                 1   \n",
       "\n",
       "         Contract              PaymentMethod  MonthlyCharges  TotalCharges  \\\n",
       "0  Month-to-month           Electronic check           29.85         29.85   \n",
       "1        One year               Mailed check           56.95       1889.50   \n",
       "2  Month-to-month               Mailed check           53.85        108.15   \n",
       "3        One year  Bank transfer (automatic)           42.30       1840.75   \n",
       "4  Month-to-month           Electronic check           70.70        151.65   \n",
       "\n",
       "   Churn  \n",
       "0      0  \n",
       "1      0  \n",
       "2      1  \n",
       "3      0  \n",
       "4      1  "
      ]
     },
     "execution_count": 4,
     "metadata": {},
     "output_type": "execute_result"
    }
   ],
   "source": [
    "df = pd.read_csv('/kaggle/input/00-churndata-preprocessing/processed/processed.csv')\n",
    "df.head()"
   ]
  },
  {
   "cell_type": "code",
   "execution_count": 5,
   "metadata": {
    "execution": {
     "iopub.execute_input": "2025-10-03T22:21:51.833910Z",
     "iopub.status.busy": "2025-10-03T22:21:51.833245Z",
     "iopub.status.idle": "2025-10-03T22:21:51.860072Z",
     "shell.execute_reply": "2025-10-03T22:21:51.859459Z",
     "shell.execute_reply.started": "2025-10-03T22:21:51.833883Z"
    },
    "trusted": true
   },
   "outputs": [
    {
     "data": {
      "text/html": [
       "<div>\n",
       "<style scoped>\n",
       "    .dataframe tbody tr th:only-of-type {\n",
       "        vertical-align: middle;\n",
       "    }\n",
       "\n",
       "    .dataframe tbody tr th {\n",
       "        vertical-align: top;\n",
       "    }\n",
       "\n",
       "    .dataframe thead th {\n",
       "        text-align: right;\n",
       "    }\n",
       "</style>\n",
       "<table border=\"1\" class=\"dataframe\">\n",
       "  <thead>\n",
       "    <tr style=\"text-align: right;\">\n",
       "      <th></th>\n",
       "      <th>Unnamed: 0</th>\n",
       "      <th>tenure</th>\n",
       "      <th>PhoneService</th>\n",
       "      <th>PaperlessBilling</th>\n",
       "      <th>MonthlyCharges</th>\n",
       "      <th>TotalCharges</th>\n",
       "      <th>Churn</th>\n",
       "      <th>MultipleLines_No phone service</th>\n",
       "      <th>MultipleLines_Yes</th>\n",
       "      <th>Contract_One year</th>\n",
       "      <th>Contract_Two year</th>\n",
       "      <th>PaymentMethod_Credit card (automatic)</th>\n",
       "      <th>PaymentMethod_Electronic check</th>\n",
       "      <th>PaymentMethod_Mailed check</th>\n",
       "    </tr>\n",
       "  </thead>\n",
       "  <tbody>\n",
       "    <tr>\n",
       "      <th>0</th>\n",
       "      <td>0</td>\n",
       "      <td>1</td>\n",
       "      <td>0</td>\n",
       "      <td>1</td>\n",
       "      <td>29.85</td>\n",
       "      <td>29.85</td>\n",
       "      <td>0</td>\n",
       "      <td>True</td>\n",
       "      <td>False</td>\n",
       "      <td>False</td>\n",
       "      <td>False</td>\n",
       "      <td>False</td>\n",
       "      <td>True</td>\n",
       "      <td>False</td>\n",
       "    </tr>\n",
       "    <tr>\n",
       "      <th>1</th>\n",
       "      <td>1</td>\n",
       "      <td>34</td>\n",
       "      <td>1</td>\n",
       "      <td>0</td>\n",
       "      <td>56.95</td>\n",
       "      <td>1889.50</td>\n",
       "      <td>0</td>\n",
       "      <td>False</td>\n",
       "      <td>False</td>\n",
       "      <td>True</td>\n",
       "      <td>False</td>\n",
       "      <td>False</td>\n",
       "      <td>False</td>\n",
       "      <td>True</td>\n",
       "    </tr>\n",
       "    <tr>\n",
       "      <th>2</th>\n",
       "      <td>2</td>\n",
       "      <td>2</td>\n",
       "      <td>1</td>\n",
       "      <td>1</td>\n",
       "      <td>53.85</td>\n",
       "      <td>108.15</td>\n",
       "      <td>1</td>\n",
       "      <td>False</td>\n",
       "      <td>False</td>\n",
       "      <td>False</td>\n",
       "      <td>False</td>\n",
       "      <td>False</td>\n",
       "      <td>False</td>\n",
       "      <td>True</td>\n",
       "    </tr>\n",
       "    <tr>\n",
       "      <th>3</th>\n",
       "      <td>3</td>\n",
       "      <td>45</td>\n",
       "      <td>0</td>\n",
       "      <td>0</td>\n",
       "      <td>42.30</td>\n",
       "      <td>1840.75</td>\n",
       "      <td>0</td>\n",
       "      <td>True</td>\n",
       "      <td>False</td>\n",
       "      <td>True</td>\n",
       "      <td>False</td>\n",
       "      <td>False</td>\n",
       "      <td>False</td>\n",
       "      <td>False</td>\n",
       "    </tr>\n",
       "    <tr>\n",
       "      <th>4</th>\n",
       "      <td>4</td>\n",
       "      <td>2</td>\n",
       "      <td>1</td>\n",
       "      <td>1</td>\n",
       "      <td>70.70</td>\n",
       "      <td>151.65</td>\n",
       "      <td>1</td>\n",
       "      <td>False</td>\n",
       "      <td>False</td>\n",
       "      <td>False</td>\n",
       "      <td>False</td>\n",
       "      <td>False</td>\n",
       "      <td>True</td>\n",
       "      <td>False</td>\n",
       "    </tr>\n",
       "  </tbody>\n",
       "</table>\n",
       "</div>"
      ],
      "text/plain": [
       "   Unnamed: 0  tenure  PhoneService  PaperlessBilling  MonthlyCharges  \\\n",
       "0           0       1             0                 1           29.85   \n",
       "1           1      34             1                 0           56.95   \n",
       "2           2       2             1                 1           53.85   \n",
       "3           3      45             0                 0           42.30   \n",
       "4           4       2             1                 1           70.70   \n",
       "\n",
       "   TotalCharges  Churn  MultipleLines_No phone service  MultipleLines_Yes  \\\n",
       "0         29.85      0                            True              False   \n",
       "1       1889.50      0                           False              False   \n",
       "2        108.15      1                           False              False   \n",
       "3       1840.75      0                            True              False   \n",
       "4        151.65      1                           False              False   \n",
       "\n",
       "   Contract_One year  Contract_Two year  \\\n",
       "0              False              False   \n",
       "1               True              False   \n",
       "2              False              False   \n",
       "3               True              False   \n",
       "4              False              False   \n",
       "\n",
       "   PaymentMethod_Credit card (automatic)  PaymentMethod_Electronic check  \\\n",
       "0                                  False                            True   \n",
       "1                                  False                           False   \n",
       "2                                  False                           False   \n",
       "3                                  False                           False   \n",
       "4                                  False                            True   \n",
       "\n",
       "   PaymentMethod_Mailed check  \n",
       "0                       False  \n",
       "1                        True  \n",
       "2                        True  \n",
       "3                       False  \n",
       "4                       False  "
      ]
     },
     "execution_count": 5,
     "metadata": {},
     "output_type": "execute_result"
    }
   ],
   "source": [
    "df = pd.get_dummies(df, drop_first=True)\n",
    "df.head()"
   ]
  },
  {
   "cell_type": "code",
   "execution_count": 6,
   "metadata": {
    "execution": {
     "iopub.execute_input": "2025-10-03T22:21:54.281255Z",
     "iopub.status.busy": "2025-10-03T22:21:54.280968Z",
     "iopub.status.idle": "2025-10-03T22:21:54.439762Z",
     "shell.execute_reply": "2025-10-03T22:21:54.439055Z",
     "shell.execute_reply.started": "2025-10-03T22:21:54.281234Z"
    },
    "trusted": true
   },
   "outputs": [
    {
     "name": "stdout",
     "output_type": "stream",
     "text": [
      "(5634, 12) (1409, 12)\n"
     ]
    }
   ],
   "source": [
    "from sklearn.model_selection import train_test_split\n",
    "\n",
    "X = df.drop(['Churn', 'Unnamed: 0'], axis=1)\n",
    "X.head()\n",
    "y = df['Churn']\n",
    "X_train, X_test, y_train, y_test = train_test_split(X, y, test_size=0.2, random_state=42, stratify=y)\n",
    "\n",
    "print(X_train.shape, X_test.shape)"
   ]
  },
  {
   "cell_type": "markdown",
   "metadata": {},
   "source": [
    "<h2>1. Function (Train and Results)</h2>"
   ]
  },
  {
   "cell_type": "code",
   "execution_count": 17,
   "metadata": {
    "execution": {
     "iopub.execute_input": "2025-10-03T22:24:04.538056Z",
     "iopub.status.busy": "2025-10-03T22:24:04.537743Z",
     "iopub.status.idle": "2025-10-03T22:24:04.546018Z",
     "shell.execute_reply": "2025-10-03T22:24:04.545373Z",
     "shell.execute_reply.started": "2025-10-03T22:24:04.538036Z"
    },
    "trusted": true
   },
   "outputs": [],
   "source": [
    "from sklearn.metrics import (classification_report, confusion_matrix, accuracy_score, \n",
    "                            precision_recall_fscore_support, roc_auc_score)\n",
    "from sklearn.base import clone\n",
    "import numpy as np\n",
    "\n",
    "def evaluate_model(model, prefix, X_train, X_test, y_train, y_test, plot_cm=False):\n",
    "    \n",
    "    estimate = clone(model)\n",
    "    estimate.fit(X_train, y_train)\n",
    "    y_pred = estimate.predict(X_test)\n",
    "\n",
    "    try:\n",
    "        y_score = estimate.predict_prob(X_test)[:, 1] # get only churn\n",
    "        auc = roc_auc_score(y_test, y_score)\n",
    "    except:\n",
    "        y_score = None\n",
    "        auc = None\n",
    "\n",
    "    acc = accuracy_score(y_test, y_pred)\n",
    "    prec, rec, f1, _ = precision_recall_fscore_support(y_test, y_pred, average=\"binary\")\n",
    "\n",
    "    print(f\"{prefix} Results:\\n\")\n",
    "    print(f\"\\n[{prefix}] Acc={acc:.4f}  Prec={prec:.4f}  Rec={rec:.4f}  F1={f1:.4f}\", (f\"  ROC-AUC={auc:.4f}\" if auc is not None else \"\"))\n",
    "\n",
    "    print(\"\\nClassification Report:\\n\", classification_report(y_test, y_pred, digits=4))\n",
    "\n",
    "    cm = confusion_matrix(y_test, y_pred)\n",
    "    print(\"\\nConfusion Matrix:\\n\", cm)\n",
    "\n",
    "\n",
    "    if plot_cm:\n",
    "        plt.figure(figsize=(5, 4))\n",
    "        sns.heatmap(cm, annot=True, fmt=\"d\", cmap=\"Blues\", cbar=False,\n",
    "                    xticklabels=[\"No Churn\",\"Churn\"], yticklabels=[\"No Churn\",\"Churn\"], \n",
    "                    annot_kws={'size': 14})\n",
    "        plt.title(f\"{prefix} - Confusion Matrix Plot\", fontsize=16)\n",
    "        plt.ylabel(\"True\", fontsize=14); plt.xlabel(\"Predicted\", fontsize=14)\n",
    "        plt.tick_params(axis='both', labelsize=14)\n",
    "        plt.tight_layout()\n",
    "        plt.savefig(f\"figures/{prefix}.png\", dpi=200, bbox_inches='tight')\n",
    "        plt.show()\n",
    "\n",
    "    return"
   ]
  },
  {
   "cell_type": "markdown",
   "metadata": {},
   "source": [
    "<h2>2. RandomForest</h2>"
   ]
  },
  {
   "cell_type": "code",
   "execution_count": null,
   "metadata": {
    "execution": {
     "iopub.execute_input": "2025-10-03T22:23:24.423999Z",
     "iopub.status.busy": "2025-10-03T22:23:24.423680Z",
     "iopub.status.idle": "2025-10-03T22:23:24.428582Z",
     "shell.execute_reply": "2025-10-03T22:23:24.427801Z",
     "shell.execute_reply.started": "2025-10-03T22:23:24.423976Z"
    },
    "trusted": true
   },
   "outputs": [],
   "source": [
    "from sklearn.ensemble import RandomForestClassifier\n",
    "def build_rf():\n",
    "    return RandomForestClassifier(\n",
    "        n_estimators=400,\n",
    "        max_depth=None,\n",
    "        min_samples_split=4,\n",
    "        min_samples_leaf=2,\n",
    "        max_features=\"sqrt\",\n",
    "        class_weight=\"balanced_subsample\",\n",
    "        n_jobs=-1,\n",
    "        random_state=42\n",
    "    )"
   ]
  },
  {
   "cell_type": "code",
   "execution_count": 19,
   "metadata": {
    "execution": {
     "iopub.execute_input": "2025-10-03T22:24:13.168484Z",
     "iopub.status.busy": "2025-10-03T22:24:13.167953Z",
     "iopub.status.idle": "2025-10-03T22:24:15.810848Z",
     "shell.execute_reply": "2025-10-03T22:24:15.810094Z",
     "shell.execute_reply.started": "2025-10-03T22:24:13.168448Z"
    },
    "trusted": true
   },
   "outputs": [
    {
     "name": "stdout",
     "output_type": "stream",
     "text": [
      "RandomForest Results:\n",
      "\n",
      "\n",
      "[RandomForest] Acc=0.7850  Prec=0.5899  Rec=0.6230  F1=0.6060 \n",
      "\n",
      "Classification Report:\n",
      "               precision    recall  f1-score   support\n",
      "\n",
      "           0     0.8609    0.8435    0.8521      1035\n",
      "           1     0.5899    0.6230    0.6060       374\n",
      "\n",
      "    accuracy                         0.7850      1409\n",
      "   macro avg     0.7254    0.7332    0.7291      1409\n",
      "weighted avg     0.7890    0.7850    0.7868      1409\n",
      "\n",
      "\n",
      "Confusion Matrix:\n",
      " [[873 162]\n",
      " [141 233]]\n"
     ]
    },
    {
     "data": {
      "image/png": "[encoded data removed]",
      "text/plain": [
       "<Figure size 500x400 with 1 Axes>"
      ]
     },
     "metadata": {},
     "output_type": "display_data"
    }
   ],
   "source": [
    "rf  = build_rf()\n",
    "\n",
    "_ = evaluate_model(rf,  \"RandomForest\", X_train, X_test, y_train, y_test, plot_cm=True)"
   ]
  },
  {
   "cell_type": "markdown",
   "metadata": {},
   "source": [
    "<h2>2. XGBoost</h2>"
   ]
  },
  {
   "cell_type": "code",
   "execution_count": null,
   "metadata": {
    "execution": {
     "iopub.execute_input": "2025-10-03T22:43:37.569354Z",
     "iopub.status.busy": "2025-10-03T22:43:37.569033Z",
     "iopub.status.idle": "2025-10-03T22:43:37.575127Z",
     "shell.execute_reply": "2025-10-03T22:43:37.574336Z",
     "shell.execute_reply.started": "2025-10-03T22:43:37.569330Z"
    },
    "trusted": true
   },
   "outputs": [],
   "source": [
    "from xgboost import XGBClassifier\n",
    "\n",
    "\n",
    "pos = y_train.sum()\n",
    "neg = len(y_train) - pos\n",
    "scale_pos = neg / pos if pos > 0 else 1.0  # For XGBoost\n",
    "\n",
    "def build_xgb():\n",
    "    return XGBClassifier(\n",
    "        n_estimators=500,\n",
    "        max_depth=5,\n",
    "        learning_rate=0.08,\n",
    "        subsample=0.8,\n",
    "        colsample_bytree=0.8,\n",
    "        reg_lambda=1.0,\n",
    "        objective=\"binary:logistic\",\n",
    "        n_jobs=-1,\n",
    "        random_state=42,\n",
    "        tree_method=\"gpu_hist\",\n",
    "        eval_metric=\"logloss\",\n",
    "        scale_pos_weight=scale_pos\n",
    "    )"
   ]
  },
  {
   "cell_type": "code",
   "execution_count": 23,
   "metadata": {
    "execution": {
     "iopub.execute_input": "2025-10-03T22:43:38.103119Z",
     "iopub.status.busy": "2025-10-03T22:43:38.102837Z",
     "iopub.status.idle": "2025-10-03T22:43:39.218113Z",
     "shell.execute_reply": "2025-10-03T22:43:39.217468Z",
     "shell.execute_reply.started": "2025-10-03T22:43:38.103097Z"
    },
    "trusted": true
   },
   "outputs": [
    {
     "name": "stderr",
     "output_type": "stream",
     "text": [
      "/usr/local/lib/python3.11/dist-packages/xgboost/core.py:160: UserWarning: [22:43:38] WARNING: /workspace/src/common/error_msg.cc:27: The tree method `gpu_hist` is deprecated since 2.0.0. To use GPU training, set the `device` parameter to CUDA instead.\n",
      "\n",
      "    E.g. tree_method = \"hist\", device = \"cuda\"\n",
      "\n",
      "  warnings.warn(smsg, UserWarning)\n",
      "/usr/local/lib/python3.11/dist-packages/xgboost/core.py:160: UserWarning: [22:43:38] WARNING: /workspace/src/common/error_msg.cc:27: The tree method `gpu_hist` is deprecated since 2.0.0. To use GPU training, set the `device` parameter to CUDA instead.\n",
      "\n",
      "    E.g. tree_method = \"hist\", device = \"cuda\"\n",
      "\n",
      "  warnings.warn(smsg, UserWarning)\n"
     ]
    },
    {
     "name": "stdout",
     "output_type": "stream",
     "text": [
      "XGBoost Results:\n",
      "\n",
      "\n",
      "[XGBoost] Acc=0.7559  Prec=0.5293  Rec=0.7246  F1=0.6117 \n",
      "\n",
      "Classification Report:\n",
      "               precision    recall  f1-score   support\n",
      "\n",
      "           0     0.8852    0.7671    0.8219      1035\n",
      "           1     0.5293    0.7246    0.6117       374\n",
      "\n",
      "    accuracy                         0.7559      1409\n",
      "   macro avg     0.7072    0.7459    0.7168      1409\n",
      "weighted avg     0.7907    0.7559    0.7661      1409\n",
      "\n",
      "\n",
      "Confusion Matrix:\n",
      " [[794 241]\n",
      " [103 271]]\n"
     ]
    },
    {
     "data": {
      "image/png": "[encoded data removed]",
      "text/plain": [
       "<Figure size 500x400 with 1 Axes>"
      ]
     },
     "metadata": {},
     "output_type": "display_data"
    }
   ],
   "source": [
    "xgb = build_xgb()\n",
    "\n",
    "_ = evaluate_model(xgb, \"XGBoost\", X_train, X_test, y_train, y_test, plot_cm=True)"
   ]
  },
  {
   "cell_type": "markdown",
   "metadata": {},
   "source": [
    "<h2>3. LightGBM</h2>"
   ]
  },
  {
   "cell_type": "code",
   "execution_count": 26,
   "metadata": {
    "execution": {
     "iopub.execute_input": "2025-10-03T22:47:31.547710Z",
     "iopub.status.busy": "2025-10-03T22:47:31.547090Z",
     "iopub.status.idle": "2025-10-03T22:47:35.933858Z",
     "shell.execute_reply": "2025-10-03T22:47:35.933177Z",
     "shell.execute_reply.started": "2025-10-03T22:47:31.547685Z"
    },
    "trusted": true
   },
   "outputs": [],
   "source": [
    "from lightgbm import LGBMClassifier\n",
    "def build_lgbm():\n",
    "    return LGBMClassifier(\n",
    "        n_estimators=500,\n",
    "        num_leaves=31,\n",
    "        learning_rate=0.08,\n",
    "        min_child_samples=40,\n",
    "        subsample=0.8,\n",
    "        colsample_bytree=0.8,\n",
    "        reg_lambda=1.0,\n",
    "        objective=\"binary\",\n",
    "        n_jobs=-1,\n",
    "        device=\"gpu\",\n",
    "        random_state=42,\n",
    "        eval_metric=\"binary_logloss\",\n",
    "        scale_pos_weight=scale_pos\n",
    "    )"
   ]
  },
  {
   "cell_type": "code",
   "execution_count": 27,
   "metadata": {
    "execution": {
     "iopub.execute_input": "2025-10-03T22:47:54.444532Z",
     "iopub.status.busy": "2025-10-03T22:47:54.443925Z",
     "iopub.status.idle": "2025-10-03T22:48:01.016305Z",
     "shell.execute_reply": "2025-10-03T22:48:01.015776Z",
     "shell.execute_reply.started": "2025-10-03T22:47:54.444513Z"
    },
    "trusted": true
   },
   "outputs": [
    {
     "name": "stdout",
     "output_type": "stream",
     "text": [
      "[LightGBM] [Warning] Unknown parameter: eval_metric\n",
      "[LightGBM] [Warning] Found whitespace in feature_names, replace with underlines\n",
      "[LightGBM] [Warning] Unknown parameter: eval_metric\n",
      "[LightGBM] [Info] Number of positive: 1495, number of negative: 4139\n",
      "[LightGBM] [Info] This is the GPU trainer!!\n",
      "[LightGBM] [Info] Total Bins 601\n",
      "[LightGBM] [Info] Number of data points in the train set: 5634, number of used features: 12\n",
      "[LightGBM] [Info] Using GPU Device: Tesla T4, Vendor: NVIDIA Corporation\n",
      "[LightGBM] [Info] Compiling OpenCL Kernel with 256 bins...\n"
     ]
    },
    {
     "name": "stderr",
     "output_type": "stream",
     "text": [
      "1 warning generated.\n",
      "1 warning generated.\n",
      "1 warning generated.\n",
      "1 warning generated.\n",
      "1 warning generated.\n",
      "1 warning generated.\n",
      "1 warning generated.\n",
      "1 warning generated.\n",
      "1 warning generated.\n",
      "1 warning generated.\n",
      "1 warning generated.\n",
      "1 warning generated.\n",
      "1 warning generated.\n",
      "1 warning generated.\n",
      "1 warning generated.\n",
      "1 warning generated.\n",
      "1 warning generated.\n",
      "1 warning generated.\n",
      "1 warning generated.\n",
      "1 warning generated.\n",
      "1 warning generated.\n",
      "1 warning generated.\n",
      "1 warning generated.\n",
      "1 warning generated.\n",
      "1 warning generated.\n",
      "1 warning generated.\n",
      "1 warning generated.\n",
      "1 warning generated.\n",
      "1 warning generated.\n",
      "1 warning generated.\n",
      "1 warning generated.\n",
      "1 warning generated.\n",
      "1 warning generated.\n"
     ]
    },
    {
     "name": "stdout",
     "output_type": "stream",
     "text": [
      "[LightGBM] [Info] GPU programs have been built\n",
      "[LightGBM] [Info] Size of histogram bin entry: 8\n",
      "[LightGBM] [Info] 7 dense feature groups (0.04 MB) transferred to GPU in 0.000570 secs. 1 sparse feature groups\n",
      "[LightGBM] [Info] [binary:BoostFromScore]: pavg=0.265353 -> initscore=-1.018328\n",
      "[LightGBM] [Info] Start training from score -1.018328\n",
      "[LightGBM] [Warning] Unknown parameter: eval_metric\n",
      "LightGBM Results:\n",
      "\n",
      "\n",
      "[LightGBM] Acc=0.7580  Prec=0.5337  Rec=0.6979  F1=0.6049 \n",
      "\n",
      "Classification Report:\n",
      "               precision    recall  f1-score   support\n",
      "\n",
      "           0     0.8772    0.7797    0.8256      1035\n",
      "           1     0.5337    0.6979    0.6049       374\n",
      "\n",
      "    accuracy                         0.7580      1409\n",
      "   macro avg     0.7055    0.7388    0.7152      1409\n",
      "weighted avg     0.7860    0.7580    0.7670      1409\n",
      "\n",
      "\n",
      "Confusion Matrix:\n",
      " [[807 228]\n",
      " [113 261]]\n"
     ]
    },
    {
     "data": {
      "image/png": "[encoded data removed]",
      "text/plain": [
       "<Figure size 500x400 with 1 Axes>"
      ]
     },
     "metadata": {},
     "output_type": "display_data"
    }
   ],
   "source": [
    "lgbm = build_lgbm()\n",
    "\n",
    "_ = evaluate_model(lgbm, \"LightGBM\", X_train, X_test, y_train, y_test, plot_cm=True)"
   ]
  },
  {
   "cell_type": "markdown",
   "metadata": {},
   "source": [
    "<h2>5. Grid Search - LightGBM</h2>"
   ]
  },
  {
   "cell_type": "code",
   "execution_count": 38,
   "metadata": {
    "execution": {
     "iopub.execute_input": "2025-10-03T22:59:23.723304Z",
     "iopub.status.busy": "2025-10-03T22:59:23.723047Z",
     "iopub.status.idle": "2025-10-03T22:59:23.728215Z",
     "shell.execute_reply": "2025-10-03T22:59:23.727504Z",
     "shell.execute_reply.started": "2025-10-03T22:59:23.723285Z"
    },
    "trusted": true
   },
   "outputs": [],
   "source": [
    "lgbm = LGBMClassifier(\n",
    "    objective=\"binary\",\n",
    "    random_state=42,\n",
    "    n_jobs=-1,\n",
    "    subsample=0.8,\n",
    "    colsample_bytree=0.8,\n",
    "    reg_lambda=1.0,\n",
    "    device='gpu',\n",
    "    scale_pos_weight=scale_pos\n",
    ")\n",
    "\n",
    "param_grid = {\n",
    "    'n_estimators': [300, 500],\n",
    "    'num_leaves': [25, 31, 40],\n",
    "    'learning_rate': [0.05, 0.1],\n",
    "    'max_depth': [5, 7]\n",
    "}"
   ]
  },
  {
   "cell_type": "code",
   "execution_count": 39,
   "metadata": {
    "execution": {
     "iopub.execute_input": "2025-10-03T22:59:25.023207Z",
     "iopub.status.busy": "2025-10-03T22:59:25.022447Z",
     "iopub.status.idle": "2025-10-03T22:59:25.027287Z",
     "shell.execute_reply": "2025-10-03T22:59:25.026597Z",
     "shell.execute_reply.started": "2025-10-03T22:59:25.023182Z"
    },
    "trusted": true
   },
   "outputs": [],
   "source": [
    "from sklearn.model_selection import GridSearchCV\n",
    "grid_search = GridSearchCV(\n",
    "    estimator=lgbm,\n",
    "    param_grid=param_grid,\n",
    "    scoring='roc_auc',\n",
    "    cv=5,\n",
    "    n_jobs=-1,\n",
    "    verbose=-1\n",
    ")"
   ]
  },
  {
   "cell_type": "code",
   "execution_count": 41,
   "metadata": {
    "execution": {
     "iopub.execute_input": "2025-10-03T23:50:21.774104Z",
     "iopub.status.busy": "2025-10-03T23:50:21.773817Z",
     "iopub.status.idle": "2025-10-03T23:50:21.777920Z",
     "shell.execute_reply": "2025-10-03T23:50:21.777158Z",
     "shell.execute_reply.started": "2025-10-03T23:50:21.774084Z"
    },
    "trusted": true
   },
   "outputs": [],
   "source": [
    "# grid_search.fit(X_train, y_train)"
   ]
  },
  {
   "cell_type": "code",
   "execution_count": 42,
   "metadata": {
    "execution": {
     "iopub.execute_input": "2025-10-04T00:00:22.097267Z",
     "iopub.status.busy": "2025-10-04T00:00:22.096672Z",
     "iopub.status.idle": "2025-10-04T00:00:22.100619Z",
     "shell.execute_reply": "2025-10-04T00:00:22.099748Z",
     "shell.execute_reply.started": "2025-10-04T00:00:22.097240Z"
    },
    "trusted": true
   },
   "outputs": [],
   "source": [
    "# print(\"Best Parameters: \", grid_search.best_params_)\n",
    "\n",
    "# print(\"Best Score (ROC-AUC): \", grid_search.best_score_)"
   ]
  },
  {
   "cell_type": "code",
   "execution_count": 43,
   "metadata": {
    "execution": {
     "iopub.execute_input": "2025-10-04T00:00:22.755104Z",
     "iopub.status.busy": "2025-10-04T00:00:22.754797Z",
     "iopub.status.idle": "2025-10-04T00:00:22.759157Z",
     "shell.execute_reply": "2025-10-04T00:00:22.758404Z",
     "shell.execute_reply.started": "2025-10-04T00:00:22.755083Z"
    },
    "trusted": true
   },
   "outputs": [],
   "source": [
    "# best_model = grid_search.best_estimator_\n",
    "# y_pred = best_model.predict(X_test)\n",
    "\n",
    "# cm = confusion_matrix(y_test, y_pred)\n",
    "# print(\"\\nConfusion Matrix:\\n\", cm)\n",
    "\n",
    "\n",
    "# plt.figure(figsize=(5, 4))\n",
    "# sns.heatmap(cm, annot=True, fmt=\"d\", cmap=\"Blues\", cbar=False,\n",
    "#             xticklabels=[\"No Churn\",\"Churn\"], yticklabels=[\"No Churn\",\"Churn\"], \n",
    "#             annot_kws={'size': 14})\n",
    "# plt.title(\"LightGBM Grid Search - Confusion Matrix Plot\", fontsize=16)\n",
    "# plt.ylabel(\"True\", fontsize=14); plt.xlabel(\"Predicted\", fontsize=14)\n",
    "# plt.tick_params(axis='both', labelsize=14)\n",
    "# plt.tight_layout()\n",
    "# plt.savefig(\"figures/LightGBM-GridSearch.png\", dpi=200, bbox_inches='tight')\n",
    "# plt.show()"
   ]
  },
  {
   "cell_type": "code",
   "execution_count": null,
   "metadata": {
    "trusted": true
   },
   "outputs": [],
   "source": []
  }
 ],
 "metadata": {
  "kaggle": {
   "accelerator": "nvidiaTeslaT4",
   "dataSources": [
    {
     "datasetId": 13996,
     "sourceId": 18858,
     "sourceType": "datasetVersion"
    },
    {
     "sourceId": 265563687,
     "sourceType": "kernelVersion"
    }
   ],
   "dockerImageVersionId": 31089,
   "isGpuEnabled": true,
   "isInternetEnabled": true,
   "language": "python",
   "sourceType": "notebook"
  },
  "kernelspec": {
   "display_name": "Python 3",
   "language": "python",
   "name": "python3"
  },
  "language_info": {
   "codemirror_mode": {
    "name": "ipython",
    "version": 3
   },
   "file_extension": ".py",
   "mimetype": "text/x-python",
   "name": "python",
   "nbconvert_exporter": "python",
   "pygments_lexer": "ipython3",
   "version": "3.11.13"
  }
 },
 "nbformat": 4,
 "nbformat_minor": 4
}
